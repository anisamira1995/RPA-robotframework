{
 "cells": [
  {
   "cell_type": "code",
   "execution_count": 2,
   "metadata": {},
   "outputs": [],
   "source": [
    "import rpa as r\n",
    "import pandas as pd\n",
    "\n"
   ]
  },
  {
   "cell_type": "code",
   "execution_count": 3,
   "metadata": {},
   "outputs": [
    {
     "name": "stdout",
     "output_type": "stream",
     "text": [
      "[RPA][INFO] - setting up TagUI for use in your Python environment\n",
      "[RPA][INFO] - downloading TagUI (~200MB) and unzipping to below folder...\n",
      "[RPA][INFO] - C:\\Users\\musya\\AppData\\Roaming\n",
      "[RPA][INFO] - done. syncing TagUI with stable cutting edge version\n",
      "[RPA][INFO] - TagUI now ready for use in your Python environment\n"
     ]
    },
    {
     "data": {
      "text/plain": [
       "True"
      ]
     },
     "execution_count": 3,
     "metadata": {},
     "output_type": "execute_result"
    }
   ],
   "source": [
    "# start the tagUI process\n",
    "r.init()\n",
    "\n",
    "# open the website\n",
    "r.url('https://katalon-demo-cura.herokuapp.com/')\n",
    "r.wait(3)\n",
    "\n",
    "# home page\n",
    "r.click('//*[@id=\"btn-make-appointment\"]')\n",
    "#r.wait(3)\n",
    "\n",
    "# login\n",
    "r.type('//*[@id=\"txt-username\"]','John Doe')\n",
    "r.type('//*[@id=\"txt-password\"]','ThisIsNotAPassword')\n",
    "r.click('//*[@id=\"btn-login\"]')\n",
    "r.wait(3)\n",
    "\n",
    "# Fill the information\n",
    "r.click('//*[@id=\"radio_program_medicaid\"]')\n",
    "r.click('//section[@id=\"appointment\"]/div/div/form/div[4]/div/div/div/span')\n",
    "r.click('(.//*[normalize-space(text()) and normalize-space(.)=\"Sa\"])[1]/following::td[25]')\n",
    "r.type('//*[@id=\"txt_comment\"]', 'testing2')\n",
    "r.click('//*[@id=\"btn-book-appointment\"]')\n",
    "\n",
    "#r.snap('/html/body/app-root/div[2]', 'results.png')\n",
    "\n",
    "r.close()\n"
   ]
  },
  {
   "cell_type": "code",
   "execution_count": 4,
   "metadata": {},
   "outputs": [
    {
     "data": {
      "text/plain": [
       "True"
      ]
     },
     "execution_count": 4,
     "metadata": {},
     "output_type": "execute_result"
    }
   ],
   "source": [
    "r.close()"
   ]
  },
  {
   "cell_type": "code",
   "execution_count": null,
   "metadata": {},
   "outputs": [],
   "source": []
  }
 ],
 "metadata": {
  "kernelspec": {
   "display_name": "Python 3",
   "language": "python",
   "name": "python3"
  },
  "language_info": {
   "codemirror_mode": {
    "name": "ipython",
    "version": 3
   },
   "file_extension": ".py",
   "mimetype": "text/x-python",
   "name": "python",
   "nbconvert_exporter": "python",
   "pygments_lexer": "ipython3",
   "version": "3.7.4"
  }
 },
 "nbformat": 4,
 "nbformat_minor": 5
}
