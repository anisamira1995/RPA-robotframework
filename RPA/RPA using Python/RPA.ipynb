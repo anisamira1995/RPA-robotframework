{
 "cells": [
  {
   "cell_type": "code",
   "execution_count": 1,
   "id": "b562d88c",
   "metadata": {},
   "outputs": [
    {
     "data": {
      "text/plain": [
       "True"
      ]
     },
     "execution_count": 1,
     "metadata": {},
     "output_type": "execute_result"
    }
   ],
   "source": [
    "import rpa as r\n",
    "import pandas as pd\n",
    "\n",
    "# read the excel file and store in dataframe variable df\n",
    "df = pd.read_excel('challenge.xlsx')\n",
    "\n",
    "# start the tagUI process\n",
    "#r.close()\n",
    "r.init()\n",
    "\n",
    "# open the website\n",
    "r.url('http://www.rpachallenge.com/')\n",
    "r.wait(10)\n",
    "# click on start button\n",
    "r.click('//button[text()=\"Start\"]')\n",
    "\n",
    "# data entry operations\n",
    "for index, row in df.iterrows():\n",
    "    r.type('//input[@ng-reflect-name=\"labelFirstName\"]', row['First Name'])\n",
    "    r.type('//input[@ng-reflect-name=\"labelLastName\"]', row['Last Name'])\n",
    "    r.type('//input[@ng-reflect-name=\"labelCompanyName\"]', row['Company Name'])\n",
    "    r.type('//input[@ng-reflect-name=\"labelRole\"]', row['Role in Company'])\n",
    "    r.type('//input[@ng-reflect-name=\"labelAddress\"]', row['Address'])\n",
    "    r.type('//input[@ng-reflect-name=\"labelEmail\"]', row['Email'])\n",
    "    r.type('//input[@ng-reflect-name=\"labelPhone\"]', str(row['Phone Number']))\n",
    "    r.click('//input[@value=\"Submit\"]')\n",
    "\n",
    "# screenshot of webpage\n",
    "\n",
    "r.snap('/html/body/app-root/div[2]', 'results.png')\n",
    "\n",
    "# stop the tagui process\n",
    "r.close()\n"
   ]
  },
  {
   "cell_type": "code",
   "execution_count": null,
   "id": "c6b9d3ca",
   "metadata": {},
   "outputs": [],
   "source": []
  },
  {
   "cell_type": "code",
   "execution_count": null,
   "id": "7e276ae1",
   "metadata": {},
   "outputs": [],
   "source": []
  }
 ],
 "metadata": {
  "kernelspec": {
   "display_name": "Python 3 (ipykernel)",
   "language": "python",
   "name": "python3"
  },
  "language_info": {
   "codemirror_mode": {
    "name": "ipython",
    "version": 3
   },
   "file_extension": ".py",
   "mimetype": "text/x-python",
   "name": "python",
   "nbconvert_exporter": "python",
   "pygments_lexer": "ipython3",
   "version": "3.9.12"
  }
 },
 "nbformat": 4,
 "nbformat_minor": 5
}
